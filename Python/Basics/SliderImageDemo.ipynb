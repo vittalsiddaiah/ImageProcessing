{
 "cells": [
  {
   "cell_type": "code",
   "execution_count": 1,
   "metadata": {},
   "outputs": [],
   "source": [
    "%%capture\n",
    "%matplotlib inline\n",
    "from ipywidgets import interact, widgets\n",
    "from IPython.display import display\n",
    "import matplotlib.pyplot as plt\n",
    "import warnings\n",
    "\n",
    "from skimage.morphology import disk\n",
    "from skimage.filters import rank\n",
    "from skimage.color import rgb2gray\n",
    "import skimage.data\n",
    "\n",
    "\n",
    "def f(Median_Size):\n",
    "    selem = disk(int(Median_Size))\n",
    "    with warnings.catch_warnings():\n",
    "        warnings.simplefilter(\"ignore\")\n",
    "        img_median = rank.median(img_gray, selem=selem) \n",
    "\n",
    "    ax_neu.imshow(img_median, cmap=\"gray\")\n",
    "    fig.canvas.draw()\n",
    "    display(fig)\n",
    "\n",
    "image = skimage.data.camera() #plt.imread(\"Test.png\")       \n",
    "img_gray = rgb2gray(image)\n",
    "\n",
    "fig = plt.figure(figsize=(6, 4))\n",
    "ax_orig = fig.add_subplot(121) \n",
    "ax_neu = fig.add_subplot(122) \n",
    "\n",
    "ax_orig.imshow(img_gray, cmap=\"gray\")\n",
    "ax_neu.imshow(img_gray, cmap=\"gray\")"
   ]
  },
  {
   "cell_type": "code",
   "execution_count": 2,
   "metadata": {},
   "outputs": [
    {
     "data": {
      "application/vnd.jupyter.widget-view+json": {
       "model_id": "16ead895489e484998337d1962034a38",
       "version_major": 2,
       "version_minor": 0
      },
      "text/plain": [
       "interactive(children=(IntSlider(value=1, description='Median_Size', max=21, min=1, step=2), Output()), _dom_cl…"
      ]
     },
     "metadata": {},
     "output_type": "display_data"
    }
   ],
   "source": [
    "interact(f, Median_Size=widgets.IntSlider(min=1,max=21,step=2,value=1));"
   ]
  },
  {
   "cell_type": "code",
   "execution_count": 5,
   "metadata": {},
   "outputs": [
    {
     "data": {
      "text/plain": [
       "[<matplotlib.lines.Line2D at 0x7fc74154fed0>]"
      ]
     },
     "execution_count": 5,
     "metadata": {},
     "output_type": "execute_result"
    },
    {
     "data": {
      "image/png": "[encoded data removed]",
      "text/plain": [
       "<Figure size 432x288 with 1 Axes>"
      ]
     },
     "metadata": {
      "needs_background": "light"
     },
     "output_type": "display_data"
    }
   ],
   "source": [
    "import numpy as np\n",
    "from scipy import stats\n",
    "from matplotlib import pyplot as plt\n",
    "%matplotlib inline\n",
    "data = np.random.normal(0, 0.5, 1000)\n",
    "\n",
    "mean, var  = scipy.stats.distributions.norm.fit(data)\n",
    "\n",
    "x = np.linspace(-5,5,100)\n",
    "\n",
    "fitted_data = scipy.stats.distributions.norm.pdf(x, mean, var)\n",
    "\n",
    "plt.hist(data, density=True)\n",
    "plt.plot(x,fitted_data,'r-')"
   ]
  },
  {
   "cell_type": "code",
   "execution_count": 7,
   "metadata": {},
   "outputs": [],
   "source": [
    "from scipy import stats\n",
    "data = stats.gamma.rvs(2, loc=1.5, scale=2, size=10000)"
   ]
  },
  {
   "cell_type": "code",
   "execution_count": 12,
   "metadata": {},
   "outputs": [
    {
     "name": "stderr",
     "output_type": "stream",
     "text": [
      "/Applications/Anaconda/anaconda3/lib/python3.7/site-packages/scipy/stats/_distn_infrastructure.py:2381: RuntimeWarning: invalid value encountered in double_scalars\n",
      "  Lhat = muhat - Shat*mu\n"
     ]
    },
    {
     "name": "stdout",
     "output_type": "stream",
     "text": [
      "Fitted alpha distribution with error=0.0059769304036730265)\n",
      "Fitted anglit distribution with error=0.238895209196979)\n",
      "Fitted arcsine distribution with error=0.3064033987531143)\n"
     ]
    },
    {
     "name": "stderr",
     "output_type": "stream",
     "text": [
      "/Applications/Anaconda/anaconda3/lib/python3.7/site-packages/scipy/stats/_continuous_distns.py:390: RuntimeWarning: divide by zero encountered in true_divide\n",
      "  return 1.0/np.pi/np.sqrt(x*(1-x))\n"
     ]
    },
    {
     "name": "stdout",
     "output_type": "stream",
     "text": [
      "Fitted argus distribution with error=0.32569020577797475)\n",
      "Fitted beta distribution with error=0.0007181616032916842)\n"
     ]
    },
    {
     "name": "stderr",
     "output_type": "stream",
     "text": [
      "/Applications/Anaconda/anaconda3/lib/python3.7/site-packages/scipy/stats/_continuous_distns.py:515: RuntimeWarning: invalid value encountered in sqrt\n",
      "  sk = 2*(b-a)*np.sqrt(a + b + 1) / (a + b + 2) / np.sqrt(a*b)\n",
      "/Applications/Anaconda/anaconda3/lib/python3.7/site-packages/scipy/optimize/minpack.py:162: RuntimeWarning: The iteration is not making good progress, as measured by the \n",
      "  improvement from the last ten iterations.\n",
      "  warnings.warn(msg, RuntimeWarning)\n",
      "/Applications/Anaconda/anaconda3/lib/python3.7/site-packages/scipy/stats/_continuous_distns.py:667: RuntimeWarning: divide by zero encountered in true_divide\n",
      "  a/(b-1.0),\n",
      "/Applications/Anaconda/anaconda3/lib/python3.7/site-packages/scipy/stats/_continuous_distns.py:671: RuntimeWarning: divide by zero encountered in true_divide\n",
      "  a*(a+1.0)/((b-2.0)*(b-1.0)),\n",
      "/Applications/Anaconda/anaconda3/lib/python3.7/site-packages/scipy/stats/_distn_infrastructure.py:1059: RuntimeWarning: invalid value encountered in subtract\n",
      "  mu2 = mu2p - mu * mu\n"
     ]
    },
    {
     "name": "stdout",
     "output_type": "stream",
     "text": [
      "Fitted betaprime distribution with error=0.003771550061981143)\n",
      "Fitted bradford distribution with error=0.16575165275919646)\n",
      "Fitted burr distribution with error=0.002584229471566084)\n",
      "Fitted burr12 distribution with error=0.0006284727356388495)\n",
      "Fitted cauchy distribution with error=0.04489441118832047)\n",
      "Fitted chi distribution with error=0.008755551753893021)\n",
      "Fitted chi2 distribution with error=0.0007181529534462377)\n",
      "Fitted cosine distribution with error=0.16063416693910135)\n",
      "Fitted crystalball distribution with error=0.04855395944041093)\n",
      "Fitted dgamma distribution with error=0.031151184915969632)\n",
      "Fitted dweibull distribution with error=0.039629517154663785)\n",
      "Fitted erlang distribution with error=0.0007180697371926693)\n",
      "Fitted expon distribution with error=0.08598440949201656)\n",
      "Fitted exponnorm distribution with error=0.00913523629055782)\n"
     ]
    },
    {
     "name": "stderr",
     "output_type": "stream",
     "text": [
      "/Applications/Anaconda/anaconda3/lib/python3.7/site-packages/scipy/stats/_continuous_distns.py:2688: RuntimeWarning: The shape parameter of the erlang distribution has been given a non-integer value 2.1.\n",
      "  RuntimeWarning)\n",
      "/Applications/Anaconda/anaconda3/lib/python3.7/site-packages/scipy/stats/_continuous_distns.py:2688: RuntimeWarning: The shape parameter of the erlang distribution has been given a non-integer value 2.0666666666666664.\n",
      "  RuntimeWarning)\n",
      "/Applications/Anaconda/anaconda3/lib/python3.7/site-packages/scipy/stats/_continuous_distns.py:2688: RuntimeWarning: The shape parameter of the erlang distribution has been given a non-integer value 1.9444444444444442.\n",
      "  RuntimeWarning)\n",
      "/Applications/Anaconda/anaconda3/lib/python3.7/site-packages/scipy/stats/_continuous_distns.py:2688: RuntimeWarning: The shape parameter of the erlang distribution has been given a non-integer value 1.8962962962962968.\n",
      "  RuntimeWarning)\n",
      "/Applications/Anaconda/anaconda3/lib/python3.7/site-packages/scipy/stats/_continuous_distns.py:2688: RuntimeWarning: The shape parameter of the erlang distribution has been given a non-integer value 2.024074074074074.\n",
      "  RuntimeWarning)\n",
      "/Applications/Anaconda/anaconda3/lib/python3.7/site-packages/scipy/stats/_continuous_distns.py:2688: RuntimeWarning: The shape parameter of the erlang distribution has been given a non-integer value 1.979012345679012.\n",
      "  RuntimeWarning)\n",
      "/Applications/Anaconda/anaconda3/lib/python3.7/site-packages/scipy/stats/_continuous_distns.py:2688: RuntimeWarning: The shape parameter of the erlang distribution has been given a non-integer value 1.9842592592592592.\n",
      "  RuntimeWarning)\n",
      "/Applications/Anaconda/anaconda3/lib/python3.7/site-packages/scipy/stats/_continuous_distns.py:2688: RuntimeWarning: The shape parameter of the erlang distribution has been given a non-integer value 1.928395061728395.\n",
      "  RuntimeWarning)\n",
      "/Applications/Anaconda/anaconda3/lib/python3.7/site-packages/scipy/stats/_continuous_distns.py:2688: RuntimeWarning: The shape parameter of the erlang distribution has been given a non-integer value 1.9973251028806587.\n",
      "  RuntimeWarning)\n",
      "/Applications/Anaconda/anaconda3/lib/python3.7/site-packages/scipy/stats/_continuous_distns.py:2688: RuntimeWarning: The shape parameter of the erlang distribution has been given a non-integer value 2.0593278463648836.\n",
      "  RuntimeWarning)\n",
      "/Applications/Anaconda/anaconda3/lib/python3.7/site-packages/scipy/stats/_continuous_distns.py:2688: RuntimeWarning: The shape parameter of the erlang distribution has been given a non-integer value 2.0317329675354365.\n",
      "  RuntimeWarning)\n",
      "/Applications/Anaconda/anaconda3/lib/python3.7/site-packages/scipy/stats/_continuous_distns.py:2688: RuntimeWarning: The shape parameter of the erlang distribution has been given a non-integer value 2.005927069044353.\n",
      "  RuntimeWarning)\n",
      "/Applications/Anaconda/anaconda3/lib/python3.7/site-packages/scipy/stats/_continuous_distns.py:2688: RuntimeWarning: The shape parameter of the erlang distribution has been given a non-integer value 2.059244017680232.\n",
      "  RuntimeWarning)\n",
      "/Applications/Anaconda/anaconda3/lib/python3.7/site-packages/scipy/stats/_continuous_distns.py:2688: RuntimeWarning: The shape parameter of the erlang distribution has been given a non-integer value 2.0030054488645024.\n",
      "  RuntimeWarning)\n",
      "/Applications/Anaconda/anaconda3/lib/python3.7/site-packages/scipy/stats/_continuous_distns.py:2688: RuntimeWarning: The shape parameter of the erlang distribution has been given a non-integer value 1.9466271655743537.\n",
      "  RuntimeWarning)\n",
      "/Applications/Anaconda/anaconda3/lib/python3.7/site-packages/scipy/stats/_continuous_distns.py:2688: RuntimeWarning: The shape parameter of the erlang distribution has been given a non-integer value 2.031152676167251.\n",
      "  RuntimeWarning)\n",
      "/Applications/Anaconda/anaconda3/lib/python3.7/site-packages/scipy/stats/_continuous_distns.py:2688: RuntimeWarning: The shape parameter of the erlang distribution has been given a non-integer value 2.0168450143101495.\n",
      "  RuntimeWarning)\n",
      "/Applications/Anaconda/anaconda3/lib/python3.7/site-packages/scipy/stats/_continuous_distns.py:2688: RuntimeWarning: The shape parameter of the erlang distribution has been given a non-integer value 2.0141155279937.\n",
      "  RuntimeWarning)\n",
      "/Applications/Anaconda/anaconda3/lib/python3.7/site-packages/scipy/stats/_continuous_distns.py:2688: RuntimeWarning: The shape parameter of the erlang distribution has been given a non-integer value 2.027173353909465.\n",
      "  RuntimeWarning)\n",
      "/Applications/Anaconda/anaconda3/lib/python3.7/site-packages/scipy/stats/_continuous_distns.py:2688: RuntimeWarning: The shape parameter of the erlang distribution has been given a non-integer value 2.0090474251257433.\n",
      "  RuntimeWarning)\n",
      "/Applications/Anaconda/anaconda3/lib/python3.7/site-packages/scipy/stats/_continuous_distns.py:2688: RuntimeWarning: The shape parameter of the erlang distribution has been given a non-integer value 1.9842892925790445.\n",
      "  RuntimeWarning)\n",
      "/Applications/Anaconda/anaconda3/lib/python3.7/site-packages/scipy/stats/_continuous_distns.py:2688: RuntimeWarning: The shape parameter of the erlang distribution has been given a non-integer value 1.9814422838094914.\n",
      "  RuntimeWarning)\n",
      "/Applications/Anaconda/anaconda3/lib/python3.7/site-packages/scipy/stats/_continuous_distns.py:2688: RuntimeWarning: The shape parameter of the erlang distribution has been given a non-integer value 1.965105661717387.\n",
      "  RuntimeWarning)\n",
      "/Applications/Anaconda/anaconda3/lib/python3.7/site-packages/scipy/stats/_continuous_distns.py:2688: RuntimeWarning: The shape parameter of the erlang distribution has been given a non-integer value 1.9681069591332805.\n",
      "  RuntimeWarning)\n",
      "/Applications/Anaconda/anaconda3/lib/python3.7/site-packages/scipy/stats/_continuous_distns.py:2688: RuntimeWarning: The shape parameter of the erlang distribution has been given a non-integer value 1.9476367261370493.\n",
      "  RuntimeWarning)\n",
      "/Applications/Anaconda/anaconda3/lib/python3.7/site-packages/scipy/stats/_continuous_distns.py:2688: RuntimeWarning: The shape parameter of the erlang distribution has been given a non-integer value 1.9820768693828033.\n",
      "  RuntimeWarning)\n",
      "/Applications/Anaconda/anaconda3/lib/python3.7/site-packages/scipy/stats/_continuous_distns.py:2688: RuntimeWarning: The shape parameter of the erlang distribution has been given a non-integer value 1.9837361867799843.\n",
      "  RuntimeWarning)\n",
      "/Applications/Anaconda/anaconda3/lib/python3.7/site-packages/scipy/stats/_continuous_distns.py:2688: RuntimeWarning: The shape parameter of the erlang distribution has been given a non-integer value 1.955523619815171.\n",
      "  RuntimeWarning)\n",
      "/Applications/Anaconda/anaconda3/lib/python3.7/site-packages/scipy/stats/_continuous_distns.py:2688: RuntimeWarning: The shape parameter of the erlang distribution has been given a non-integer value 1.9888809049537928.\n",
      "  RuntimeWarning)\n",
      "/Applications/Anaconda/anaconda3/lib/python3.7/site-packages/scipy/stats/_continuous_distns.py:2688: RuntimeWarning: The shape parameter of the erlang distribution has been given a non-integer value 1.9790404167685471.\n",
      "  RuntimeWarning)\n",
      "/Applications/Anaconda/anaconda3/lib/python3.7/site-packages/scipy/stats/_continuous_distns.py:2688: RuntimeWarning: The shape parameter of the erlang distribution has been given a non-integer value 1.9808418170492552.\n",
      "  RuntimeWarning)\n",
      "/Applications/Anaconda/anaconda3/lib/python3.7/site-packages/scipy/stats/_continuous_distns.py:2688: RuntimeWarning: The shape parameter of the erlang distribution has been given a non-integer value 1.9748169339775679.\n",
      "  RuntimeWarning)\n",
      "/Applications/Anaconda/anaconda3/lib/python3.7/site-packages/scipy/stats/_continuous_distns.py:2688: RuntimeWarning: The shape parameter of the erlang distribution has been given a non-integer value 1.977046747178172.\n",
      "  RuntimeWarning)\n",
      "/Applications/Anaconda/anaconda3/lib/python3.7/site-packages/scipy/stats/_continuous_distns.py:2688: RuntimeWarning: The shape parameter of the erlang distribution has been given a non-integer value 1.9617827772866794.\n",
      "  RuntimeWarning)\n",
      "/Applications/Anaconda/anaconda3/lib/python3.7/site-packages/scipy/stats/_continuous_distns.py:2688: RuntimeWarning: The shape parameter of the erlang distribution has been given a non-integer value 1.9685573092034576.\n",
      "  RuntimeWarning)\n",
      "/Applications/Anaconda/anaconda3/lib/python3.7/site-packages/scipy/stats/_continuous_distns.py:2688: RuntimeWarning: The shape parameter of the erlang distribution has been given a non-integer value 1.9828569564873089.\n",
      "  RuntimeWarning)\n",
      "/Applications/Anaconda/anaconda3/lib/python3.7/site-packages/scipy/stats/_continuous_distns.py:2688: RuntimeWarning: The shape parameter of the erlang distribution has been given a non-integer value 1.9717944584717877.\n",
      "  RuntimeWarning)\n",
      "/Applications/Anaconda/anaconda3/lib/python3.7/site-packages/scipy/stats/_continuous_distns.py:2688: RuntimeWarning: The shape parameter of the erlang distribution has been given a non-integer value 1.9640905261863564.\n",
      "  RuntimeWarning)\n",
      "/Applications/Anaconda/anaconda3/lib/python3.7/site-packages/scipy/stats/_continuous_distns.py:2688: RuntimeWarning: The shape parameter of the erlang distribution has been given a non-integer value 1.9766539943335304.\n",
      "  RuntimeWarning)\n",
      "/Applications/Anaconda/anaconda3/lib/python3.7/site-packages/scipy/stats/_continuous_distns.py:2688: RuntimeWarning: The shape parameter of the erlang distribution has been given a non-integer value 1.9676237608276785.\n",
      "  RuntimeWarning)\n",
      "/Applications/Anaconda/anaconda3/lib/python3.7/site-packages/scipy/stats/_continuous_distns.py:2688: RuntimeWarning: The shape parameter of the erlang distribution has been given a non-integer value 1.9699795074153017.\n",
      "  RuntimeWarning)\n",
      "/Applications/Anaconda/anaconda3/lib/python3.7/site-packages/scipy/stats/_continuous_distns.py:2688: RuntimeWarning: The shape parameter of the erlang distribution has been given a non-integer value 1.9770613309436222.\n",
      "  RuntimeWarning)\n",
      "/Applications/Anaconda/anaconda3/lib/python3.7/site-packages/scipy/stats/_continuous_distns.py:2688: RuntimeWarning: The shape parameter of the erlang distribution has been given a non-integer value 1.9773354299898487.\n",
      "  RuntimeWarning)\n",
      "/Applications/Anaconda/anaconda3/lib/python3.7/site-packages/scipy/stats/_continuous_distns.py:2688: RuntimeWarning: The shape parameter of the erlang distribution has been given a non-integer value 1.9731797013513028.\n",
      "  RuntimeWarning)\n",
      "/Applications/Anaconda/anaconda3/lib/python3.7/site-packages/scipy/stats/_continuous_distns.py:2688: RuntimeWarning: The shape parameter of the erlang distribution has been given a non-integer value 1.9812838436703357.\n",
      "  RuntimeWarning)\n",
      "/Applications/Anaconda/anaconda3/lib/python3.7/site-packages/scipy/stats/_continuous_distns.py:2688: RuntimeWarning: The shape parameter of the erlang distribution has been given a non-integer value 1.97280559147906.\n",
      "  RuntimeWarning)\n",
      "/Applications/Anaconda/anaconda3/lib/python3.7/site-packages/scipy/stats/_continuous_distns.py:2688: RuntimeWarning: The shape parameter of the erlang distribution has been given a non-integer value 1.9713648604989729.\n",
      "  RuntimeWarning)\n",
      "/Applications/Anaconda/anaconda3/lib/python3.7/site-packages/scipy/stats/_continuous_distns.py:2688: RuntimeWarning: The shape parameter of the erlang distribution has been given a non-integer value 1.968246107886027.\n",
      "  RuntimeWarning)\n",
      "/Applications/Anaconda/anaconda3/lib/python3.7/site-packages/scipy/stats/_continuous_distns.py:2688: RuntimeWarning: The shape parameter of the erlang distribution has been given a non-integer value 1.9745520227216544.\n",
      "  RuntimeWarning)\n",
      "/Applications/Anaconda/anaconda3/lib/python3.7/site-packages/scipy/stats/_continuous_distns.py:2688: RuntimeWarning: The shape parameter of the erlang distribution has been given a non-integer value 1.9756600165357057.\n",
      "  RuntimeWarning)\n",
      "/Applications/Anaconda/anaconda3/lib/python3.7/site-packages/scipy/stats/_continuous_distns.py:2688: RuntimeWarning: The shape parameter of the erlang distribution has been given a non-integer value 1.9745862275265225.\n",
      "  RuntimeWarning)\n",
      "/Applications/Anaconda/anaconda3/lib/python3.7/site-packages/scipy/stats/_continuous_distns.py:2688: RuntimeWarning: The shape parameter of the erlang distribution has been given a non-integer value 1.9754063762539262.\n",
      "  RuntimeWarning)\n",
      "/Applications/Anaconda/anaconda3/lib/python3.7/site-packages/scipy/stats/_continuous_distns.py:2688: RuntimeWarning: The shape parameter of the erlang distribution has been given a non-integer value 1.9747561800602098.\n",
      "  RuntimeWarning)\n",
      "/Applications/Anaconda/anaconda3/lib/python3.7/site-packages/scipy/stats/_continuous_distns.py:2688: RuntimeWarning: The shape parameter of the erlang distribution has been given a non-integer value 1.973739041895589.\n",
      "  RuntimeWarning)\n",
      "/Applications/Anaconda/anaconda3/lib/python3.7/site-packages/scipy/stats/_continuous_distns.py:2688: RuntimeWarning: The shape parameter of the erlang distribution has been given a non-integer value 1.9743744311187892.\n",
      "  RuntimeWarning)\n",
      "/Applications/Anaconda/anaconda3/lib/python3.7/site-packages/scipy/stats/_continuous_distns.py:2688: RuntimeWarning: The shape parameter of the erlang distribution has been given a non-integer value 1.9736548522985466.\n",
      "  RuntimeWarning)\n",
      "/Applications/Anaconda/anaconda3/lib/python3.7/site-packages/scipy/stats/_continuous_distns.py:2688: RuntimeWarning: The shape parameter of the erlang distribution has been given a non-integer value 1.9743277301158775.\n",
      "  RuntimeWarning)\n",
      "/Applications/Anaconda/anaconda3/lib/python3.7/site-packages/scipy/stats/_continuous_distns.py:2688: RuntimeWarning: The shape parameter of the erlang distribution has been given a non-integer value 1.9757925261786147.\n",
      "  RuntimeWarning)\n",
      "/Applications/Anaconda/anaconda3/lib/python3.7/site-packages/scipy/stats/_continuous_distns.py:2688: RuntimeWarning: The shape parameter of the erlang distribution has been given a non-integer value 1.9738329075581307.\n",
      "  RuntimeWarning)\n",
      "/Applications/Anaconda/anaconda3/lib/python3.7/site-packages/scipy/stats/_continuous_distns.py:2688: RuntimeWarning: The shape parameter of the erlang distribution has been given a non-integer value 1.9736005324683215.\n",
      "  RuntimeWarning)\n",
      "/Applications/Anaconda/anaconda3/lib/python3.7/site-packages/scipy/stats/_continuous_distns.py:2688: RuntimeWarning: The shape parameter of the erlang distribution has been given a non-integer value 1.973466348976097.\n",
      "  RuntimeWarning)\n",
      "/Applications/Anaconda/anaconda3/lib/python3.7/site-packages/scipy/stats/_continuous_distns.py:2688: RuntimeWarning: The shape parameter of the erlang distribution has been given a non-integer value 1.9730123079047512.\n",
      "  RuntimeWarning)\n",
      "/Applications/Anaconda/anaconda3/lib/python3.7/site-packages/scipy/stats/_continuous_distns.py:2688: RuntimeWarning: The shape parameter of the erlang distribution has been given a non-integer value 1.974150791965082.\n",
      "  RuntimeWarning)\n",
      "/Applications/Anaconda/anaconda3/lib/python3.7/site-packages/scipy/stats/_continuous_distns.py:2688: RuntimeWarning: The shape parameter of the erlang distribution has been given a non-integer value 1.9737380973425116.\n",
      "  RuntimeWarning)\n",
      "/Applications/Anaconda/anaconda3/lib/python3.7/site-packages/scipy/stats/_continuous_distns.py:2688: RuntimeWarning: The shape parameter of the erlang distribution has been given a non-integer value 1.9738552100648605.\n",
      "  RuntimeWarning)\n",
      "/Applications/Anaconda/anaconda3/lib/python3.7/site-packages/scipy/stats/_continuous_distns.py:2688: RuntimeWarning: The shape parameter of the erlang distribution has been given a non-integer value 1.9738384831848133.\n",
      "  RuntimeWarning)\n",
      "/Applications/Anaconda/anaconda3/lib/python3.7/site-packages/scipy/stats/_continuous_distns.py:2688: RuntimeWarning: The shape parameter of the erlang distribution has been given a non-integer value 1.9730342228864035.\n",
      "  RuntimeWarning)\n",
      "/Applications/Anaconda/anaconda3/lib/python3.7/site-packages/scipy/stats/_continuous_distns.py:2688: RuntimeWarning: The shape parameter of the erlang distribution has been given a non-integer value 1.974004353308509.\n",
      "  RuntimeWarning)\n",
      "/Applications/Anaconda/anaconda3/lib/python3.7/site-packages/scipy/stats/_continuous_distns.py:2688: RuntimeWarning: The shape parameter of the erlang distribution has been given a non-integer value 1.9742542735811255.\n",
      "  RuntimeWarning)\n",
      "/Applications/Anaconda/anaconda3/lib/python3.7/site-packages/scipy/stats/_continuous_distns.py:2688: RuntimeWarning: The shape parameter of the erlang distribution has been given a non-integer value 1.973663330127354.\n",
      "  RuntimeWarning)\n",
      "/Applications/Anaconda/anaconda3/lib/python3.7/site-packages/scipy/stats/_continuous_distns.py:2688: RuntimeWarning: The shape parameter of the erlang distribution has been given a non-integer value 1.9739326804046058.\n",
      "  RuntimeWarning)\n",
      "/Applications/Anaconda/anaconda3/lib/python3.7/site-packages/scipy/stats/_continuous_distns.py:2688: RuntimeWarning: The shape parameter of the erlang distribution has been given a non-integer value 1.9738840346390822.\n",
      "  RuntimeWarning)\n",
      "/Applications/Anaconda/anaconda3/lib/python3.7/site-packages/scipy/stats/_continuous_distns.py:2688: RuntimeWarning: The shape parameter of the erlang distribution has been given a non-integer value 1.9738626621984836.\n",
      "  RuntimeWarning)\n",
      "/Applications/Anaconda/anaconda3/lib/python3.7/site-packages/scipy/stats/_continuous_distns.py:2688: RuntimeWarning: The shape parameter of the erlang distribution has been given a non-integer value 1.9738445279382308.\n",
      "  RuntimeWarning)\n",
      "/Applications/Anaconda/anaconda3/lib/python3.7/site-packages/scipy/stats/_continuous_distns.py:2688: RuntimeWarning: The shape parameter of the erlang distribution has been given a non-integer value 1.974158613796528.\n",
      "  RuntimeWarning)\n",
      "/Applications/Anaconda/anaconda3/lib/python3.7/site-packages/scipy/stats/_continuous_distns.py:2688: RuntimeWarning: The shape parameter of the erlang distribution has been given a non-integer value 1.9740347928792343.\n",
      "  RuntimeWarning)\n",
      "/Applications/Anaconda/anaconda3/lib/python3.7/site-packages/scipy/stats/_continuous_distns.py:2688: RuntimeWarning: The shape parameter of the erlang distribution has been given a non-integer value 1.9738378836625232.\n",
      "  RuntimeWarning)\n",
      "/Applications/Anaconda/anaconda3/lib/python3.7/site-packages/scipy/stats/_continuous_distns.py:2688: RuntimeWarning: The shape parameter of the erlang distribution has been given a non-integer value 1.9739627358970124.\n",
      "  RuntimeWarning)\n",
      "/Applications/Anaconda/anaconda3/lib/python3.7/site-packages/scipy/stats/_continuous_distns.py:2688: RuntimeWarning: The shape parameter of the erlang distribution has been given a non-integer value 1.9740106698372362.\n",
      "  RuntimeWarning)\n",
      "/Applications/Anaconda/anaconda3/lib/python3.7/site-packages/scipy/stats/_continuous_distns.py:2688: RuntimeWarning: The shape parameter of the erlang distribution has been given a non-integer value 1.974160937804091.\n",
      "  RuntimeWarning)\n",
      "/Applications/Anaconda/anaconda3/lib/python3.7/site-packages/scipy/stats/_continuous_distns.py:2688: RuntimeWarning: The shape parameter of the erlang distribution has been given a non-integer value 1.9739236304046959.\n",
      "  RuntimeWarning)\n",
      "/Applications/Anaconda/anaconda3/lib/python3.7/site-packages/scipy/stats/_continuous_distns.py:2688: RuntimeWarning: The shape parameter of the erlang distribution has been given a non-integer value 1.973936769616726.\n",
      "  RuntimeWarning)\n",
      "/Applications/Anaconda/anaconda3/lib/python3.7/site-packages/scipy/stats/_continuous_distns.py:2688: RuntimeWarning: The shape parameter of the erlang distribution has been given a non-integer value 1.9739921947821086.\n",
      "  RuntimeWarning)\n",
      "/Applications/Anaconda/anaconda3/lib/python3.7/site-packages/scipy/stats/_continuous_distns.py:2688: RuntimeWarning: The shape parameter of the erlang distribution has been given a non-integer value array(1.97399219).\n",
      "  RuntimeWarning)\n"
     ]
    },
    {
     "name": "stdout",
     "output_type": "stream",
     "text": [
      "Fitted exponpow distribution with error=0.032383401019319566)\n",
      "Fitted exponweib distribution with error=0.0006300187685005615)\n",
      "Fitted f distribution with error=0.000731394599417311)\n",
      "Fitted fatiguelife distribution with error=0.0023104673907806705)\n",
      "Fitted fisk distribution with error=0.007011941524412354)\n",
      "Fitted foldcauchy distribution with error=0.016415066672103806)\n",
      "Fitted foldnorm distribution with error=0.02798338586239782)\n",
      "Fitted frechet_l distribution with error=0.009490901947829852)\n",
      "Fitted frechet_r distribution with error=0.002558684219099328)\n",
      "Fitted gamma distribution with error=0.0007180878640270803)\n"
     ]
    },
    {
     "name": "stderr",
     "output_type": "stream",
     "text": [
      "/Applications/Anaconda/anaconda3/lib/python3.7/site-packages/scipy/stats/_continuous_distns.py:3214: RuntimeWarning: divide by zero encountered in power\n",
      "  return 1.0/Cinv * x**(a-1.0) * (1.0-x)**(b-1.0) / (1.0+z*x)**c\n"
     ]
    },
    {
     "name": "stdout",
     "output_type": "stream",
     "text": [
      "Fitted gausshyper distribution with error=0.1821475497516322)\n",
      "Fitted genexpon distribution with error=0.0006565412726252301)\n",
      "Fitted genextreme distribution with error=0.005256370142810192)\n",
      "Fitted gengamma distribution with error=0.0006670959710389056)\n",
      "Fitted genhalflogistic distribution with error=0.03941076081594261)\n",
      "Fitted genlogistic distribution with error=0.009370313677944768)\n",
      "Fitted gennorm distribution with error=0.03522729634664392)\n"
     ]
    },
    {
     "name": "stderr",
     "output_type": "stream",
     "text": [
      "/Applications/Anaconda/anaconda3/lib/python3.7/site-packages/scipy/stats/_continuous_distns.py:2282: RuntimeWarning: divide by zero encountered in true_divide\n",
      "  val = val + cnk * (-1) ** ki / (1.0 - c * ki)\n"
     ]
    },
    {
     "name": "stdout",
     "output_type": "stream",
     "text": [
      "Fitted genpareto distribution with error=0.07780333988915157)\n",
      "Fitted gilbrat distribution with error=0.031700744339339136)\n",
      "Fitted gompertz distribution with error=0.03506754852300799)\n",
      "Fitted gumbel_l distribution with error=0.12355351386126195)\n",
      "Fitted gumbel_r distribution with error=0.00950068090704695)\n",
      "Fitted halfcauchy distribution with error=0.10027637668481562)\n",
      "Fitted halfgennorm distribution with error=0.027421674494001864)\n",
      "Fitted halflogistic distribution with error=0.03522628187909548)\n",
      "Fitted halfnorm distribution with error=0.027983362814881826)\n",
      "Fitted hypsecant distribution with error=0.03182107393532442)\n",
      "Fitted invgamma distribution with error=0.004282992070333069)\n",
      "Fitted invgauss distribution with error=0.0025668070223249856)\n",
      "Fitted invweibull distribution with error=0.005256016754690655)\n",
      "Fitted johnsonsb distribution with error=0.001872695203587146)\n",
      "Fitted johnsonsu distribution with error=0.00310577380074471)\n",
      "Fitted kappa3 distribution with error=0.020247892530253022)\n",
      "Fitted kappa4 distribution with error=0.14470321965374297)\n"
     ]
    },
    {
     "name": "stderr",
     "output_type": "stream",
     "text": [
      "/Applications/Anaconda/anaconda3/lib/python3.7/site-packages/scipy/stats/_continuous_distns.py:79: RuntimeWarning: floating point number truncated to an integer\n",
      "  return -scu._smirnovp(n, x)\n"
     ]
    },
    {
     "name": "stdout",
     "output_type": "stream",
     "text": [
      "Fitted ksone distribution with error=0.3063852958512963)\n",
      "Fitted kstwobign distribution with error=0.009525782818636357)\n",
      "Fitted laplace distribution with error=0.042015731911809566)\n"
     ]
    },
    {
     "name": "stderr",
     "output_type": "stream",
     "text": [
      "/Applications/Anaconda/anaconda3/lib/python3.7/site-packages/scipy/stats/_distn_infrastructure.py:1682: RuntimeWarning: divide by zero encountered in log\n",
      "  return log(self._pdf(x, *args))\n"
     ]
    },
    {
     "name": "stdout",
     "output_type": "stream",
     "text": [
      "Fitted levy distribution with error=0.10738151376266533)\n",
      "Fitted levy_l distribution with error=0.37428415063102105)\n",
      "SKIPPED levy_stable distribution (taking more than 30 seconds)\n",
      "Fitted loggamma distribution with error=0.05018457033258732)\n",
      "Fitted logistic distribution with error=0.03425991046371021)\n"
     ]
    },
    {
     "name": "stderr",
     "output_type": "stream",
     "text": [
      "/Applications/Anaconda/anaconda3/lib/python3.7/site-packages/scipy/stats/_continuous_distns.py:4339: RuntimeWarning: divide by zero encountered in true_divide\n",
      "  return c**2 / (c**2 - n**2)\n"
     ]
    },
    {
     "name": "stdout",
     "output_type": "stream",
     "text": [
      "Fitted loglaplace distribution with error=0.021920668774674756)\n"
     ]
    },
    {
     "name": "stderr",
     "output_type": "stream",
     "text": [
      "ERROR:root:Internal Python error in the inspect module.\n",
      "Below is the traceback from this internal error.\n",
      "\n"
     ]
    },
    {
     "name": "stdout",
     "output_type": "stream",
     "text": [
      "Traceback (most recent call last):\n",
      "  File \"/Applications/Anaconda/anaconda3/lib/python3.7/site-packages/IPython/core/interactiveshell.py\", line 2961, in run_code\n",
      "    exec(code_obj, self.user_global_ns, self.user_ns)\n",
      "  File \"<ipython-input-12-69e72b3bbe0d>\", line 3, in <module>\n",
      "    f.fit()\n",
      "  File \"/Applications/Anaconda/anaconda3/lib/python3.7/site-packages/fitter/fitter.py\", line 268, in fit\n",
      "    dist.fit, distribution, args=self._data)\n",
      "  File \"/Applications/Anaconda/anaconda3/lib/python3.7/site-packages/fitter/fitter.py\", line 404, in _timed_run\n",
      "    it.join(self.timeout)\n",
      "  File \"/Applications/Anaconda/anaconda3/lib/python3.7/threading.py\", line 1048, in join\n",
      "    self._wait_for_tstate_lock(timeout=max(timeout, 0))\n",
      "  File \"/Applications/Anaconda/anaconda3/lib/python3.7/threading.py\", line 1060, in _wait_for_tstate_lock\n",
      "    elif lock.acquire(block, timeout):\n",
      "KeyboardInterrupt\n",
      "\n",
      "During handling of the above exception, another exception occurred:\n",
      "\n",
      "Traceback (most recent call last):\n",
      "  File \"/Applications/Anaconda/anaconda3/lib/python3.7/site-packages/IPython/core/interactiveshell.py\", line 1863, in showtraceback\n",
      "    stb = value._render_traceback_()\n",
      "AttributeError: 'KeyboardInterrupt' object has no attribute '_render_traceback_'\n",
      "\n",
      "During handling of the above exception, another exception occurred:\n",
      "\n",
      "Traceback (most recent call last):\n",
      "  File \"/Applications/Anaconda/anaconda3/lib/python3.7/site-packages/IPython/core/ultratb.py\", line 1095, in get_records\n",
      "    return _fixed_getinnerframes(etb, number_of_lines_of_context, tb_offset)\n",
      "  File \"/Applications/Anaconda/anaconda3/lib/python3.7/site-packages/IPython/core/ultratb.py\", line 311, in wrapped\n",
      "    return f(*args, **kwargs)\n",
      "  File \"/Applications/Anaconda/anaconda3/lib/python3.7/site-packages/IPython/core/ultratb.py\", line 345, in _fixed_getinnerframes\n",
      "    records = fix_frame_records_filenames(inspect.getinnerframes(etb, context))\n",
      "  File \"/Applications/Anaconda/anaconda3/lib/python3.7/inspect.py\", line 1502, in getinnerframes\n",
      "    frameinfo = (tb.tb_frame,) + getframeinfo(tb, context)\n",
      "  File \"/Applications/Anaconda/anaconda3/lib/python3.7/inspect.py\", line 1460, in getframeinfo\n",
      "    filename = getsourcefile(frame) or getfile(frame)\n",
      "  File \"/Applications/Anaconda/anaconda3/lib/python3.7/inspect.py\", line 696, in getsourcefile\n",
      "    if getattr(getmodule(object, filename), '__loader__', None) is not None:\n",
      "  File \"/Applications/Anaconda/anaconda3/lib/python3.7/inspect.py\", line 742, in getmodule\n",
      "    os.path.realpath(f)] = module.__name__\n",
      "  File \"/Applications/Anaconda/anaconda3/lib/python3.7/posixpath.py\", line 395, in realpath\n",
      "    path, ok = _joinrealpath(filename[:0], filename, {})\n",
      "  File \"/Applications/Anaconda/anaconda3/lib/python3.7/posixpath.py\", line 429, in _joinrealpath\n",
      "    if not islink(newpath):\n",
      "  File \"/Applications/Anaconda/anaconda3/lib/python3.7/posixpath.py\", line 171, in islink\n",
      "    st = os.lstat(path)\n",
      "KeyboardInterrupt\n"
     ]
    },
    {
     "ename": "KeyboardInterrupt",
     "evalue": "",
     "output_type": "error",
     "traceback": [
      "\u001b[0;31m---------------------------------------------------------------------------\u001b[0m"
     ]
    }
   ],
   "source": [
    "from fitter import Fitter\n",
    "f = Fitter(data)\n",
    "f.fit()\n",
    "# may take some time since by default, all distributions are tried\n",
    "# but you call manually provide a smaller set of distributions\n",
    "f.summary()"
   ]
  },
  {
   "cell_type": "code",
   "execution_count": null,
   "metadata": {},
   "outputs": [],
   "source": []
  }
 ],
 "metadata": {
  "kernelspec": {
   "display_name": "Python 3",
   "language": "python",
   "name": "python3"
  },
  "language_info": {
   "codemirror_mode": {
    "name": "ipython",
    "version": 3
   },
   "file_extension": ".py",
   "mimetype": "text/x-python",
   "name": "python",
   "nbconvert_exporter": "python",
   "pygments_lexer": "ipython3",
   "version": "3.7.5"
  }
 },
 "nbformat": 4,
 "nbformat_minor": 2
}
